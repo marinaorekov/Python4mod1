{
 "cells": [
  {
   "cell_type": "markdown",
   "metadata": {},
   "source": [
    "### Module 4 Exercise"
   ]
  },
  {
   "cell_type": "markdown",
   "metadata": {},
   "source": [
    "1. How many occurences of \"row\" is in \"Row, row, row your boat. Gently down the stream. Merrily, merrily, merrily, merrily. Life is but a dream. Row, row, row your boat. Gently up the creek.\" "
   ]
  },
  {
   "cell_type": "code",
   "execution_count": 5,
   "metadata": {},
   "outputs": [
    {
     "name": "stdout",
     "output_type": "stream",
     "text": [
      "'row' occurs 4 time(s)\n"
     ]
    }
   ],
   "source": [
    "input = \"Row, row, row your boat. Gently down the stream. Merrily, merrily, merrily, merrily. Life is but a dream. Row, row, row your boat. Gently up the creek.\"\n",
    "count=input.count(\"row\")\n",
    "print(f\"'row' occurs {count} time(s)\")"
   ]
  },
  {
   "cell_type": "markdown",
   "metadata": {},
   "source": [
    "2. Ask a user for a name, color, and an animal.  <br>\n",
    "Then using string format method per each line, show following:<br>\n",
    "<b><i>name</i></b> had a little <b><i>animal</i></b>. <br>\n",
    "It was <b><i>color</i></b> as snow. <br>\n",
    "And everywhere that <b><i>name</i></b> went, the <b><i>animal</i></b> was sure to go."
   ]
  },
  {
   "cell_type": "code",
   "execution_count": 3,
   "metadata": {},
   "outputs": [
    {
     "name": "stdout",
     "output_type": "stream",
     "text": [
      "enter namemarry\n",
      "enter animallamb\n",
      "enter colorwhite\n",
      "marry had a little \n",
      "lamb\n",
      " it was white as snow\n",
      "and everywhere that marry went, the lamb was sure to go.\n"
     ]
    }
   ],
   "source": [
    "name = input(\"enter name\")\n",
    "\n",
    "animal = input(\"enter animal\")\n",
    "\n",
    "color = input(\"enter color\")\n",
    "\n",
    "print(name + \" had a little \" + animal)\n",
    "print(\" it was \"+color+\" as snow\")\n",
    "print(\"and everywhere that \"+name+\" went, the \"+animal+\" was sure to go.\")\n",
    "\n",
    "\n"
   ]
  },
  {
   "cell_type": "code",
   "execution_count": null,
   "metadata": {},
   "outputs": [],
   "source": []
  },
  {
   "cell_type": "markdown",
   "metadata": {},
   "source": [
    "3. Print 3.14159 in a scientific number notation "
   ]
  },
  {
   "cell_type": "code",
   "execution_count": 2,
   "metadata": {},
   "outputs": [
    {
     "name": "stdout",
     "output_type": "stream",
     "text": [
      "3.141590e+05\n"
     ]
    }
   ],
   "source": [
    "print(f\"{314159:e}\")"
   ]
  },
  {
   "cell_type": "markdown",
   "metadata": {},
   "source": [
    "4. Print 3.1559 in 3 decimal places"
   ]
  },
  {
   "cell_type": "code",
   "execution_count": 3,
   "metadata": {},
   "outputs": [
    {
     "name": "stdout",
     "output_type": "stream",
     "text": [
      " is 3.142\n"
     ]
    }
   ],
   "source": [
    "amount = 3.14159\n",
    "print(f\" is {amount:.3f}\")\n",
    "      "
   ]
  },
  {
   "cell_type": "markdown",
   "metadata": {},
   "source": [
    "5. Print 1589.92341 in a scientific number notation to the power of 3"
   ]
  },
  {
   "cell_type": "code",
   "execution_count": 3,
   "metadata": {},
   "outputs": [
    {
     "name": "stdout",
     "output_type": "stream",
     "text": [
      "1.589923e+03^3\n"
     ]
    }
   ],
   "source": [
    "print(f\"{1589.92341:e}^3\")"
   ]
  },
  {
   "cell_type": "markdown",
   "metadata": {},
   "source": [
    "6. Convert 39 to a binary number using floor division and mod operators. Then, compare your answer using bin() and int() functions."
   ]
  },
  {
   "cell_type": "code",
   "execution_count": 10,
   "metadata": {},
   "outputs": [
    {
     "name": "stdout",
     "output_type": "stream",
     "text": [
      "1\n",
      "1\n",
      "1\n",
      "0\n",
      "0\n",
      "1\n",
      "0\n",
      "0b100111\n"
     ]
    }
   ],
   "source": [
    "input = 39\n",
    "#print (input)\n",
    "output = input // 2\n",
    "\n",
    "#print (output)\n",
    "\n",
    "output2 = (output//2)\n",
    "#print(output2)\n",
    "\n",
    "output3 = (output2 // 2)\n",
    "#print(output3)\n",
    "\n",
    "output4 = (output3 // 2)\n",
    "#print(output4)\n",
    "\n",
    "output5 = (output4 // 2)\n",
    "#print(output5)\n",
    "\n",
    "output6 = (output5 // 2)\n",
    "#print(output6)\n",
    "\n",
    "#next we run the modulos\n",
    "\n",
    "outmod0 = (input % 2)\n",
    "print(outmod0)\n",
    "outmod1 = (output % 2)\n",
    "print(outmod1)\n",
    "output2 = (output2 % 2)\n",
    "print(output2)\n",
    "output3 = (output3 % 2)\n",
    "print(output3)\n",
    "output4 = (output4 % 2)\n",
    "print(output4)\n",
    "output5 = (output5 % 2)\n",
    "print(output5)\n",
    "output6 = (output6 % 2)\n",
    "print(output6)\n",
    "\n",
    "\n",
    "x = bin(39)\n",
    "print(x)\n",
    "\n",
    "\n",
    "\n"
   ]
  },
  {
   "cell_type": "code",
   "execution_count": 44,
   "metadata": {},
   "outputs": [
    {
     "data": {
      "text/plain": [
       "'00000110'"
      ]
     },
     "execution_count": 44,
     "metadata": {},
     "output_type": "execute_result"
    }
   ],
   "source": [
    "'{0:08b}'.format(6)\n",
    "'00000110'"
   ]
  },
  {
   "cell_type": "code",
   "execution_count": 2,
   "metadata": {},
   "outputs": [
    {
     "name": "stdout",
     "output_type": "stream",
     "text": [
      "0b100111\n"
     ]
    }
   ],
   "source": [
    "x = bin(39)\n",
    "print(x)"
   ]
  },
  {
   "cell_type": "code",
   "execution_count": null,
   "metadata": {},
   "outputs": [],
   "source": []
  },
  {
   "cell_type": "code",
   "execution_count": null,
   "metadata": {},
   "outputs": [],
   "source": []
  },
  {
   "cell_type": "code",
   "execution_count": null,
   "metadata": {},
   "outputs": [],
   "source": []
  },
  {
   "cell_type": "code",
   "execution_count": null,
   "metadata": {},
   "outputs": [],
   "source": []
  },
  {
   "cell_type": "code",
   "execution_count": null,
   "metadata": {},
   "outputs": [],
   "source": []
  },
  {
   "cell_type": "markdown",
   "metadata": {},
   "source": [
    "7. Convert 39 to an octal number using floor division and mod operators. Then, compare your answer using oct() and int() functions."
   ]
  },
  {
   "cell_type": "code",
   "execution_count": null,
   "metadata": {},
   "outputs": [],
   "source": [
    "#Divide 39 by 8 keeping notice of the quotient and the remainder.\n",
    "\n",
    "#Continue dividing the quotient by 8 until you get a quotient of zero.\n",
    "\n",
    "#Then just write out the remainders in the reverse order to get octal equivalent of decimal number 39."
   ]
  },
  {
   "cell_type": "code",
   "execution_count": 26,
   "metadata": {},
   "outputs": [
    {
     "name": "stdout",
     "output_type": "stream",
     "text": [
      "0o47\n",
      "7\n",
      "4\n",
      "0\n",
      "0\n",
      "0\n",
      "0\n",
      "0\n"
     ]
    }
   ],
   "source": [
    "MYNUM = 39\n",
    "\n",
    "myanswer = oct(MYNUM)\n",
    "print(myanswer)\n",
    "\n",
    "input = 39\n",
    "#print (input)\n",
    "output = input // 8\n",
    "\n",
    "#print (output)\n",
    "\n",
    "output2 = (output//8)\n",
    "#print(output2)\n",
    "\n",
    "output3 = (output2 // 8)\n",
    "#print(output3)\n",
    "\n",
    "output4 = (output3 // 8)\n",
    "#print(output4)\n",
    "\n",
    "output5 = (output4 // 8)\n",
    "#print(output5)\n",
    "\n",
    "output6 = (output5 // 8)\n",
    "#print(output6)\n",
    "\n",
    "#next we run the modulos\n",
    "\n",
    "outmod0 = (input % 8)\n",
    "print(outmod0)\n",
    "outmod1 = (output % 8)\n",
    "print(outmod1)\n",
    "output2 = (output2 % 8)\n",
    "print(output2)\n",
    "output3 = (output3 % 8)\n",
    "print(output3)\n",
    "output4 = (output4 % 8)\n",
    "print(output4)\n",
    "output5 = (output5 % 8)\n",
    "print(output5)\n",
    "output6 = (output6 % 8)\n",
    "print(output6)\n",
    "\n",
    "\n",
    "\n",
    "\n",
    "\n"
   ]
  },
  {
   "cell_type": "code",
   "execution_count": null,
   "metadata": {},
   "outputs": [],
   "source": []
  },
  {
   "cell_type": "code",
   "execution_count": null,
   "metadata": {},
   "outputs": [],
   "source": []
  },
  {
   "cell_type": "markdown",
   "metadata": {},
   "source": [
    "8. Convert 39 to a hexadecimal number using floor division and mod operators. Then, compare your answer using hex() and int() functions."
   ]
  },
  {
   "cell_type": "code",
   "execution_count": 28,
   "metadata": {},
   "outputs": [
    {
     "name": "stdout",
     "output_type": "stream",
     "text": [
      "0x27\n",
      "7\n",
      "2\n",
      "0\n",
      "0\n",
      "0\n",
      "0\n",
      "0\n"
     ]
    }
   ],
   "source": [
    "MYNUM = 39\n",
    "myanswer = hex(MYNUM)\n",
    "print(myanswer)\n",
    "\n",
    "input = 39\n",
    "#print (input)\n",
    "output = input // 16\n",
    "\n",
    "#print (output)\n",
    "\n",
    "output2 = (output//16)\n",
    "#print(output2)\n",
    "\n",
    "output3 = (output2 // 16)\n",
    "#print(output3)\n",
    "\n",
    "output4 = (output3 // 16)\n",
    "#print(output4)\n",
    "\n",
    "output5 = (output4 // 16)\n",
    "#print(output5)\n",
    "\n",
    "output6 = (output5 // 16)\n",
    "#print(output6)\n",
    "\n",
    "#next we run the modulos\n",
    "\n",
    "outmod0 = (input % 16)\n",
    "print(outmod0)\n",
    "outmod1 = (output % 16)\n",
    "print(outmod1)\n",
    "output2 = (output2 % 16)\n",
    "print(output2)\n",
    "output3 = (output3 % 16)\n",
    "print(output3)\n",
    "output4 = (output4 % 16)\n",
    "print(output4)\n",
    "output5 = (output5 % 16)\n",
    "print(output5)\n",
    "output6 = (output6 % 16)\n",
    "print(output6)\n",
    "\n"
   ]
  },
  {
   "cell_type": "code",
   "execution_count": null,
   "metadata": {},
   "outputs": [],
   "source": []
  },
  {
   "cell_type": "code",
   "execution_count": null,
   "metadata": {},
   "outputs": [],
   "source": []
  },
  {
   "cell_type": "code",
   "execution_count": null,
   "metadata": {},
   "outputs": [],
   "source": []
  },
  {
   "cell_type": "markdown",
   "metadata": {},
   "source": [
    "9. Ask a user for an amount and a tax rate in percentage. Then, display the amount, rate in percentage, calculated tax amount, and the total (amount + tax amount) in one <b>nice</b> formmated print statement."
   ]
  },
  {
   "cell_type": "code",
   "execution_count": 12,
   "metadata": {},
   "outputs": [
    {
     "name": "stdout",
     "output_type": "stream",
     "text": [
      "enter amount30\n",
      "enter tax rate (in percentage)3\n",
      "Amount is $30.00\n",
      "Rate is %3.00\n",
      "total tax is $0.90\n",
      "total is $30.90\n"
     ]
    }
   ],
   "source": [
    "amount = input(\"enter amount\")\n",
    "tax_rate = input(\"enter tax rate (in percentage)\")\n",
    "\n",
    "#process: find: amount, rate in percentage, tax_amount, total\n",
    "\n",
    "amount = float(amount)\n",
    "print(f\"Amount is ${amount:.2f}\")\n",
    "\n",
    "tax_rate = float(tax_rate)\n",
    "print(f\"Rate is %{tax_rate:.2f}\")\n",
    "\n",
    "total_tax = amount * tax_rate * .01 \n",
    "float(total_tax)\n",
    "print(f\"total tax is ${total_tax:.2f}\")\n",
    "\n",
    "total = total_tax + amount\n",
    "print(f\"total is ${total:.2f}\")\n",
    "      \n",
    "\n",
    "      \n"
   ]
  },
  {
   "cell_type": "code",
   "execution_count": 1,
   "metadata": {},
   "outputs": [
    {
     "name": "stdout",
     "output_type": "stream",
     "text": [
      "Amount is $123.88\n"
     ]
    }
   ],
   "source": [
    "amount = 123.879\n",
    "print(f\"Amount is ${amount:.2f}\")"
   ]
  },
  {
   "cell_type": "code",
   "execution_count": null,
   "metadata": {},
   "outputs": [],
   "source": []
  },
  {
   "cell_type": "code",
   "execution_count": null,
   "metadata": {},
   "outputs": [],
   "source": []
  }
 ],
 "metadata": {
  "kernelspec": {
   "display_name": "Python 3 (ipykernel)",
   "language": "python",
   "name": "python3"
  },
  "language_info": {
   "codemirror_mode": {
    "name": "ipython",
    "version": 3
   },
   "file_extension": ".py",
   "mimetype": "text/x-python",
   "name": "python",
   "nbconvert_exporter": "python",
   "pygments_lexer": "ipython3",
   "version": "3.10.9"
  }
 },
 "nbformat": 4,
 "nbformat_minor": 4
}
